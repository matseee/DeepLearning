{
 "cells": [
  {
   "cell_type": "code",
   "execution_count": 37,
   "metadata": {},
   "outputs": [],
   "source": [
    "def w_sum(a,b):\n",
    "    assert(len(a) == len(b))\n",
    "    output = 0\n",
    "    \n",
    "    for i in range(len(a)):\n",
    "        output += a[i] * b[i]\n",
    "        \n",
    "    return output\n",
    "\n",
    "def vect_mat_mul(vec, mat):\n",
    "    assert(len(vec) == len(mat))\n",
    "    output = [0,0,0]\n",
    "    \n",
    "    for i in range(len(vec)):\n",
    "        output[i] = w_sum(vec, mat[i])\n",
    "    \n",
    "    return output\n",
    "\n",
    "def neural_network(inp, weights):\n",
    "    pred = vect_mat_mul(inp, weights)\n",
    "    return pred"
   ]
  },
  {
   "cell_type": "code",
   "execution_count": 38,
   "metadata": {},
   "outputs": [
    {
     "name": "stdout",
     "output_type": "stream",
     "text": [
      "[0.555, 0.9800000000000001, 0.9650000000000001]\n"
     ]
    }
   ],
   "source": [
    "#           #toes %win #fans \n",
    "weight = [ [0.1, 0.1, -0.3], # hurt\n",
    "            [0.1, 0.2, 0.0],  # win?\n",
    "            [0.0, 1.3, 0.1] ]  # sad?\n",
    "\n",
    "toes = [8.5, 9.5, 9.9, 9.0]\n",
    "wlrec = [0.65, 0.8, 0.8, 0.9]\n",
    "nfans = [1.2, 1.3, 0.5, 1.0]\n",
    "\n",
    "inp = [toes[0], wlrec[0], nfans[0]]\n",
    "\n",
    "pred = neural_network(inp, weight)\n",
    "print(pred)"
   ]
  },
  {
   "cell_type": "code",
   "execution_count": null,
   "metadata": {},
   "outputs": [],
   "source": []
  }
 ],
 "metadata": {
  "kernelspec": {
   "display_name": "Python 3",
   "language": "python",
   "name": "python3"
  },
  "language_info": {
   "codemirror_mode": {
    "name": "ipython",
    "version": 3
   },
   "file_extension": ".py",
   "mimetype": "text/x-python",
   "name": "python",
   "nbconvert_exporter": "python",
   "pygments_lexer": "ipython3",
   "version": "3.8.5"
  }
 },
 "nbformat": 4,
 "nbformat_minor": 4
}
