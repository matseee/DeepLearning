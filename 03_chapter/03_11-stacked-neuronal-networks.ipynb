{
 "cells": [
  {
   "cell_type": "code",
   "execution_count": 1,
   "metadata": {},
   "outputs": [],
   "source": [
    "import numpy as np\n",
    "\n",
    "# toes % wins # fans\n",
    "ih_wgt = np.array([\n",
    "    [0.1, 0.2, -0.1], # hid[0]\n",
    "    [-0.1, 0.1, 0.9], # hid[1]\n",
    "    [0.1,0.4, 0.1]    # hid[2]\n",
    "]).T\n",
    "\n",
    "# hid[0] hid1[1] hid[2]\n",
    "hp_wgt = np.array([\n",
    "    [0.3, 1.1, -0.3], # Verletzte\n",
    "    [0.1, 0.2, 0.0],  # Sieg?\n",
    "    [0.0, 1.3, 0.1]   # Traurig?\n",
    "]).T\n",
    "\n",
    "weights = [ih_wgt, hp_wgt]"
   ]
  },
  {
   "cell_type": "code",
   "execution_count": 2,
   "metadata": {},
   "outputs": [],
   "source": [
    "def neuronal_network(input, weights):\n",
    "    hid = input.dot(weights[0])\n",
    "    pred = hid.dot(weights[1])\n",
    "    return pred"
   ]
  },
  {
   "cell_type": "code",
   "execution_count": 3,
   "metadata": {},
   "outputs": [
    {
     "name": "stdout",
     "output_type": "stream",
     "text": [
      "[0.2135 0.145  0.5065]\n"
     ]
    }
   ],
   "source": [
    "toes = np.array([8.5, 9.5, 9.9, 9.0])\n",
    "wlrec = np.array([0.65, 0.8, 0.8, 0.9])\n",
    "nfans = np.array([1.2, 1.3, 0.5, 1.0])\n",
    "\n",
    "inp = np.array([\n",
    "    toes[0],\n",
    "    wlrec[0],\n",
    "    nfans[0]\n",
    "])\n",
    "\n",
    "pred = neuronal_network(inp, weights)\n",
    "print(pred)"
   ]
  },
  {
   "cell_type": "code",
   "execution_count": null,
   "metadata": {},
   "outputs": [],
   "source": []
  }
 ],
 "metadata": {
  "kernelspec": {
   "display_name": "Python 3",
   "language": "python",
   "name": "python3"
  },
  "language_info": {
   "codemirror_mode": {
    "name": "ipython",
    "version": 3
   },
   "file_extension": ".py",
   "mimetype": "text/x-python",
   "name": "python",
   "nbconvert_exporter": "python",
   "pygments_lexer": "ipython3",
   "version": "3.8.5"
  }
 },
 "nbformat": 4,
 "nbformat_minor": 4
}
