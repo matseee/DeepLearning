{
 "cells": [
  {
   "cell_type": "code",
   "execution_count": 1,
   "metadata": {},
   "outputs": [],
   "source": [
    "import numpy as np"
   ]
  },
  {
   "cell_type": "code",
   "execution_count": 4,
   "metadata": {},
   "outputs": [
    {
     "name": "stdout",
     "output_type": "stream",
     "text": [
      "a: [0 1 2 3]\n"
     ]
    }
   ],
   "source": [
    "# Vektor\n",
    "a = np.array([0,1,2,3])\n",
    "print('a:', a)"
   ]
  },
  {
   "cell_type": "code",
   "execution_count": 5,
   "metadata": {},
   "outputs": [
    {
     "name": "stdout",
     "output_type": "stream",
     "text": [
      "b: [4 5 6 7]\n"
     ]
    }
   ],
   "source": [
    "# Vektor\n",
    "b = np.array([4,5,6,7])\n",
    "print('b:', b)"
   ]
  },
  {
   "cell_type": "code",
   "execution_count": 6,
   "metadata": {},
   "outputs": [
    {
     "name": "stdout",
     "output_type": "stream",
     "text": [
      "c: [[0 1 2 3]\n",
      " [4 5 6 7]]\n"
     ]
    }
   ],
   "source": [
    "# Matrix\n",
    "c = np.array([\n",
    "    [0,1,2,3],\n",
    "    [4,5,6,7]\n",
    "])\n",
    "print('c:', c)"
   ]
  },
  {
   "cell_type": "code",
   "execution_count": 7,
   "metadata": {},
   "outputs": [
    {
     "name": "stdout",
     "output_type": "stream",
     "text": [
      "d: [[0. 0. 0. 0.]\n",
      " [0. 0. 0. 0.]]\n"
     ]
    }
   ],
   "source": [
    "# Matrix mit Nullen\n",
    "d = np.zeros((2,4))\n",
    "print('d:', d)"
   ]
  },
  {
   "cell_type": "code",
   "execution_count": 8,
   "metadata": {},
   "outputs": [
    {
     "name": "stdout",
     "output_type": "stream",
     "text": [
      "e: [[0.87213743 0.93597202 0.27365015 0.17673281 0.26315459]\n",
      " [0.30535385 0.80736728 0.56820761 0.41038572 0.67890747]]\n"
     ]
    }
   ],
   "source": [
    "# Matrix mit Random zwischen 0-1\n",
    "e = np.random.rand(2,5)\n",
    "print('e:', e)"
   ]
  },
  {
   "cell_type": "code",
   "execution_count": 15,
   "metadata": {},
   "outputs": [
    {
     "name": "stdout",
     "output_type": "stream",
     "text": [
      "a: [0 1 2 3]\n",
      "a * 0.1: [0.  0.1 0.2 0.3]\n"
     ]
    }
   ],
   "source": [
    "# Multipliziert alle Zahlen im Vektor a\n",
    "print('a:', a)\n",
    "print('a * 0.1:', a * 0.1)"
   ]
  },
  {
   "cell_type": "code",
   "execution_count": 14,
   "metadata": {},
   "outputs": [
    {
     "name": "stdout",
     "output_type": "stream",
     "text": [
      "c: [[0 1 2 3]\n",
      " [4 5 6 7]]\n",
      "c * 0.2: [[0.  0.2 0.4 0.6]\n",
      " [0.8 1.  1.2 1.4]]\n"
     ]
    }
   ],
   "source": [
    "# Multipliziert alle Zahlen in der Matrix c\n",
    "print('c:', c)\n",
    "print('c * 0.2:', c * 0.2)"
   ]
  },
  {
   "cell_type": "code",
   "execution_count": 12,
   "metadata": {},
   "outputs": [
    {
     "name": "stdout",
     "output_type": "stream",
     "text": [
      "a: [0 1 2 3]\n",
      "b: [4 5 6 7]\n",
      "a * b: [ 0  5 12 21]\n"
     ]
    }
   ],
   "source": [
    "# Elementarweise Multiplikation von Vec a und Vec b\n",
    "print('a:', a)\n",
    "print('b:', b)\n",
    "print('a * b:', a * b)"
   ]
  },
  {
   "cell_type": "code",
   "execution_count": 16,
   "metadata": {},
   "outputs": [
    {
     "name": "stdout",
     "output_type": "stream",
     "text": [
      "a * b * 0.2: [0.  1.  2.4 4.2]\n"
     ]
    }
   ],
   "source": [
    "# Elementarweise Multiplikation von Vec a und Vec b anschliessend * 0.2\n",
    "print('a * b * 0.2:', a * b * 0.2)"
   ]
  },
  {
   "cell_type": "code",
   "execution_count": 17,
   "metadata": {},
   "outputs": [
    {
     "name": "stdout",
     "output_type": "stream",
     "text": [
      "a * c: [[ 0  1  4  9]\n",
      " [ 0  5 12 21]]\n"
     ]
    }
   ],
   "source": [
    "# Elementarweise Multiplikation von Vec a und der Zeilen von Matrix c (denn Anz. Spalten = Anz. Zahlen Vec)\n",
    "print('a * c:', a * c)"
   ]
  },
  {
   "cell_type": "code",
   "execution_count": null,
   "metadata": {},
   "outputs": [],
   "source": []
  }
 ],
 "metadata": {
  "kernelspec": {
   "display_name": "Python 3",
   "language": "python",
   "name": "python3"
  },
  "language_info": {
   "codemirror_mode": {
    "name": "ipython",
    "version": 3
   },
   "file_extension": ".py",
   "mimetype": "text/x-python",
   "name": "python",
   "nbconvert_exporter": "python",
   "pygments_lexer": "ipython3",
   "version": "3.8.5"
  }
 },
 "nbformat": 4,
 "nbformat_minor": 4
}
