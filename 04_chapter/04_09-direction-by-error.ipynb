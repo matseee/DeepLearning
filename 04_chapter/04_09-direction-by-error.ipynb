{
 "cells": [
  {
   "cell_type": "code",
   "execution_count": 1,
   "metadata": {},
   "outputs": [
    {
     "name": "stdout",
     "output_type": "stream",
     "text": [
      "#0 Fehler: 0.30250000000000005 Vorhersage: 0.25\n",
      "#1 Fehler: 0.17015625000000004 Vorhersage: 0.3875\n",
      "#2 Fehler: 0.095712890625 Vorhersage: 0.49062500000000003\n",
      "#3 Fehler: 0.05383850097656251 Vorhersage: 0.56796875\n",
      "#4 Fehler: 0.03028415679931642 Vorhersage: 0.6259765625\n",
      "#5 Fehler: 0.0170348381996155 Vorhersage: 0.669482421875\n",
      "#6 Fehler: 0.00958209648728372 Vorhersage: 0.70211181640625\n",
      "#7 Fehler: 0.005389929274097089 Vorhersage: 0.7265838623046875\n",
      "#8 Fehler: 0.0030318352166796153 Vorhersage: 0.7449378967285156\n",
      "#9 Fehler: 0.0017054073093822882 Vorhersage: 0.7587034225463867\n",
      "#10 Fehler: 0.0009592916115275371 Vorhersage: 0.76902756690979\n",
      "#11 Fehler: 0.0005396015314842384 Vorhersage: 0.7767706751823426\n",
      "#12 Fehler: 0.000303525861459885 Vorhersage: 0.7825780063867569\n",
      "#13 Fehler: 0.00017073329707118678 Vorhersage: 0.7869335047900676\n",
      "#14 Fehler: 9.603747960254256e-05 Vorhersage: 0.7902001285925507\n",
      "#15 Fehler: 5.402108227642978e-05 Vorhersage: 0.7926500964444131\n",
      "#16 Fehler: 3.038685878049206e-05 Vorhersage: 0.7944875723333098\n",
      "#17 Fehler: 1.7092608064027242e-05 Vorhersage: 0.7958656792499823\n",
      "#18 Fehler: 9.614592036015323e-06 Vorhersage: 0.7968992594374867\n",
      "#19 Fehler: 5.408208020258491e-06 Vorhersage: 0.7976744445781151\n"
     ]
    }
   ],
   "source": [
    "weight = 0.5\n",
    "goal_pred = 0.8\n",
    "input = 0.5\n",
    "\n",
    "for iteration in range(20):\n",
    "    pred = input * weight\n",
    "    error = (pred - goal_pred) ** 2\n",
    "    \n",
    "    direction_and_amount = (pred - goal_pred) * input\n",
    "    weight = weight - direction_and_amount\n",
    "    \n",
    "    print(\"#\" + str(iteration) + \" Fehler: \" + str(error) + \" Vorhersage: \" + str(pred))"
   ]
  },
  {
   "cell_type": "code",
   "execution_count": null,
   "metadata": {},
   "outputs": [],
   "source": []
  }
 ],
 "metadata": {
  "kernelspec": {
   "display_name": "Python 3",
   "language": "python",
   "name": "python3"
  },
  "language_info": {
   "codemirror_mode": {
    "name": "ipython",
    "version": 3
   },
   "file_extension": ".py",
   "mimetype": "text/x-python",
   "name": "python",
   "nbconvert_exporter": "python",
   "pygments_lexer": "ipython3",
   "version": "3.8.5"
  }
 },
 "nbformat": 4,
 "nbformat_minor": 4
}
