{
 "cells": [
  {
   "cell_type": "code",
   "execution_count": 6,
   "id": "c088d071",
   "metadata": {},
   "outputs": [
    {
     "name": "stdout",
     "output_type": "stream",
     "text": [
      "----\n",
      "Gewicht: 0.0\n",
      "Fehler: 0.6400000000000001 \tVorhersage: 0.0\n",
      "Delta: -0.8 \tGew-Delta: -0.8800000000000001\n",
      "----\n",
      "Gewicht: 0.8800000000000001\n",
      "Fehler: 0.02822400000000005 \tVorhersage: 0.9680000000000002\n",
      "Delta: 0.16800000000000015 \tGew-Delta: 0.1848000000000002\n",
      "----\n",
      "Gewicht: 0.6951999999999999\n",
      "Fehler: 0.0012446784000000064 \tVorhersage: 0.76472\n",
      "Delta: -0.03528000000000009 \tGew-Delta: -0.0388080000000001\n",
      "----\n",
      "Gewicht: 0.734008\n",
      "Fehler: 5.4890317439999896e-05 \tVorhersage: 0.8074088\n",
      "Delta: 0.007408799999999993 \tGew-Delta: 0.008149679999999992\n"
     ]
    }
   ],
   "source": [
    "weight, goal_pred, input = (0.0, 0.8, 1.1)\n",
    "for iteration in range(4):\n",
    "    print(\"----\\nGewicht: \"+ str(weight))\n",
    "    \n",
    "    pred = input * weight\n",
    "    error = (pred - goal_pred) ** 2\n",
    "    \n",
    "    delta = pred - goal_pred\n",
    "    weight_delta = delta * input\n",
    "    weight = weight - weight_delta\n",
    "    \n",
    "    print(\"Fehler: \" + str(error) + \" \\tVorhersage: \" + str(pred))\n",
    "    print(\"Delta: \" + str(delta) + \" \\tGew-Delta: \" + str(weight_delta))"
   ]
  },
  {
   "cell_type": "code",
   "execution_count": null,
   "id": "dfd09b59",
   "metadata": {},
   "outputs": [],
   "source": []
  }
 ],
 "metadata": {
  "kernelspec": {
   "display_name": "Python 3 (ipykernel)",
   "language": "python",
   "name": "python3"
  },
  "language_info": {
   "codemirror_mode": {
    "name": "ipython",
    "version": 3
   },
   "file_extension": ".py",
   "mimetype": "text/x-python",
   "name": "python",
   "nbconvert_exporter": "python",
   "pygments_lexer": "ipython3",
   "version": "3.9.7"
  }
 },
 "nbformat": 4,
 "nbformat_minor": 5
}
