{
 "cells": [
  {
   "cell_type": "code",
   "execution_count": 1,
   "id": "607e5cb3",
   "metadata": {},
   "outputs": [
    {
     "name": "stdout",
     "output_type": "stream",
     "text": [
      "Fehler: 0.30250000000000005 \tVorhersage: 0.25\n",
      "Fehler: 0.17015625000000004 \tVorhersage: 0.3875\n",
      "Fehler: 0.095712890625 \tVorhersage: 0.49062500000000003\n",
      "Fehler: 0.05383850097656251 \tVorhersage: 0.56796875\n",
      "Fehler: 0.03028415679931642 \tVorhersage: 0.6259765625\n",
      "Fehler: 0.0170348381996155 \tVorhersage: 0.669482421875\n",
      "Fehler: 0.00958209648728372 \tVorhersage: 0.70211181640625\n",
      "Fehler: 0.005389929274097089 \tVorhersage: 0.7265838623046875\n",
      "Fehler: 0.0030318352166796153 \tVorhersage: 0.7449378967285156\n",
      "Fehler: 0.0017054073093822882 \tVorhersage: 0.7587034225463867\n",
      "Fehler: 0.0009592916115275371 \tVorhersage: 0.76902756690979\n",
      "Fehler: 0.0005396015314842384 \tVorhersage: 0.7767706751823426\n",
      "Fehler: 0.000303525861459885 \tVorhersage: 0.7825780063867569\n",
      "Fehler: 0.00017073329707118678 \tVorhersage: 0.7869335047900676\n",
      "Fehler: 9.603747960254256e-05 \tVorhersage: 0.7902001285925507\n",
      "Fehler: 5.402108227642978e-05 \tVorhersage: 0.7926500964444131\n",
      "Fehler: 3.038685878049206e-05 \tVorhersage: 0.7944875723333098\n",
      "Fehler: 1.7092608064027242e-05 \tVorhersage: 0.7958656792499823\n",
      "Fehler: 9.614592036015323e-06 \tVorhersage: 0.7968992594374867\n",
      "Fehler: 5.408208020258491e-06 \tVorhersage: 0.7976744445781151\n"
     ]
    }
   ],
   "source": [
    "weight, goal_pred, input = (0.5, 0.8, 0.5)\n",
    "for iteration in range(20):\n",
    "    pred = input * weight\n",
    "    error = (pred - goal_pred) ** 2\n",
    "    \n",
    "    direction_and_amount = (pred - goal_pred) * input\n",
    "    weight = weight - direction_and_amount\n",
    "    \n",
    "    print(\"Fehler: \" + str(error) + \" \\tVorhersage: \" + str(pred))"
   ]
  },
  {
   "cell_type": "code",
   "execution_count": null,
   "id": "c2b8149d",
   "metadata": {},
   "outputs": [],
   "source": []
  }
 ],
 "metadata": {
  "kernelspec": {
   "display_name": "Python 3 (ipykernel)",
   "language": "python",
   "name": "python3"
  },
  "language_info": {
   "codemirror_mode": {
    "name": "ipython",
    "version": 3
   },
   "file_extension": ".py",
   "mimetype": "text/x-python",
   "name": "python",
   "nbconvert_exporter": "python",
   "pygments_lexer": "ipython3",
   "version": "3.9.7"
  }
 },
 "nbformat": 4,
 "nbformat_minor": 5
}
