{
 "cells": [
  {
   "cell_type": "code",
   "execution_count": 5,
   "id": "3767ea9b",
   "metadata": {},
   "outputs": [
    {
     "name": "stdout",
     "output_type": "stream",
     "text": [
      "Fehler: 0.03999999999999998\tVorhersage: 1.0\n",
      "Fehler: 0.3599999999999998\tVorhersage: 0.20000000000000018\n",
      "Fehler: 3.2399999999999984\tVorhersage: 2.5999999999999996\n",
      "Fehler: 29.159999999999986\tVorhersage: -4.599999999999999\n",
      "Fehler: 262.4399999999999\tVorhersage: 16.999999999999996\n",
      "Fehler: 2361.959999999998\tVorhersage: -47.79999999999998\n",
      "Fehler: 21257.639999999978\tVorhersage: 146.59999999999994\n",
      "Fehler: 191318.75999999983\tVorhersage: -436.5999999999998\n",
      "Fehler: 1721868.839999999\tVorhersage: 1312.9999999999995\n",
      "Fehler: 15496819.559999991\tVorhersage: -3935.799999999999\n",
      "Fehler: 139471376.03999993\tVorhersage: 11810.599999999997\n",
      "Fehler: 1255242384.3599997\tVorhersage: -35428.59999999999\n",
      "Fehler: 11297181459.239996\tVorhersage: 106288.99999999999\n",
      "Fehler: 101674633133.15994\tVorhersage: -318863.79999999993\n",
      "Fehler: 915071698198.4395\tVorhersage: 956594.5999999997\n",
      "Fehler: 8235645283785.954\tVorhersage: -2869780.599999999\n",
      "Fehler: 74120807554073.56\tVorhersage: 8609344.999999996\n",
      "Fehler: 667087267986662.1\tVorhersage: -25828031.799999986\n",
      "Fehler: 6003785411879960.0\tVorhersage: 77484098.59999996\n",
      "Fehler: 5.403406870691965e+16\tVorhersage: -232452292.5999999\n"
     ]
    }
   ],
   "source": [
    "weight, goal_pred, input = (0.5, 0.8, 2)\n",
    "for iteration in range(20):\n",
    "    pred = input * weight\n",
    "    error = (pred - goal_pred) ** 2\n",
    "    \n",
    "    delta = pred - goal_pred\n",
    "    weight_delta = delta * input\n",
    "    \n",
    "    weight = weight - weight_delta\n",
    "    print(\"Fehler: \" + str(error) + \"\\tVorhersage: \" + str(pred))"
   ]
  },
  {
   "cell_type": "code",
   "execution_count": null,
   "id": "1e547b3a",
   "metadata": {},
   "outputs": [],
   "source": []
  }
 ],
 "metadata": {
  "kernelspec": {
   "display_name": "Python 3 (ipykernel)",
   "language": "python",
   "name": "python3"
  },
  "language_info": {
   "codemirror_mode": {
    "name": "ipython",
    "version": 3
   },
   "file_extension": ".py",
   "mimetype": "text/x-python",
   "name": "python",
   "nbconvert_exporter": "python",
   "pygments_lexer": "ipython3",
   "version": "3.9.7"
  }
 },
 "nbformat": 4,
 "nbformat_minor": 5
}
