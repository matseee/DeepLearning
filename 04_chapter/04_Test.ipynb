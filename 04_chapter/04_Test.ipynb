{
 "cells": [
  {
   "cell_type": "code",
   "execution_count": 1,
   "id": "430d18fd",
   "metadata": {},
   "outputs": [
    {
     "name": "stdout",
     "output_type": "stream",
     "text": [
      "Fehler: 0.03999999999999998 Vorhersage: 1.0\n",
      "Fehler: 0.0144 Vorhersage: 0.92\n",
      "Fehler: 0.005183999999999993 Vorhersage: 0.872\n",
      "Fehler: 0.0018662400000000014 Vorhersage: 0.8432000000000001\n",
      "Fehler: 0.0006718464000000028 Vorhersage: 0.8259200000000001\n",
      "Fehler: 0.00024186470400000033 Vorhersage: 0.815552\n",
      "Fehler: 8.70712934399997e-05 Vorhersage: 0.8093312\n",
      "Fehler: 3.134566563839939e-05 Vorhersage: 0.80559872\n",
      "Fehler: 1.1284439629823931e-05 Vorhersage: 0.803359232\n",
      "Fehler: 4.062398266736526e-06 Vorhersage: 0.8020155392\n",
      "Fehler: 1.4624633760252567e-06 Vorhersage: 0.8012093235200001\n",
      "Fehler: 5.264868153690924e-07 Vorhersage: 0.8007255941120001\n",
      "Fehler: 1.8953525353291194e-07 Vorhersage: 0.8004353564672001\n",
      "Fehler: 6.82326912718715e-08 Vorhersage: 0.8002612138803201\n",
      "Fehler: 2.456376885786678e-08 Vorhersage: 0.8001567283281921\n",
      "Fehler: 8.842956788836216e-09 Vorhersage: 0.8000940369969153\n",
      "Fehler: 3.1834644439835434e-09 Vorhersage: 0.8000564221981492\n",
      "Fehler: 1.1460471998340758e-09 Vorhersage: 0.8000338533188895\n",
      "Fehler: 4.125769919393652e-10 Vorhersage: 0.8000203119913337\n",
      "Fehler: 1.485277170987127e-10 Vorhersage: 0.8000121871948003\n"
     ]
    }
   ],
   "source": [
    "alpha, weight, goal_pred, input = (0.1, 0.5, 0.8, 2.0)\n",
    "for iteration in range(20):\n",
    "    pred = weight * input\n",
    "    error = (pred - goal_pred) ** 2\n",
    "    \n",
    "    derivative = input * (pred - goal_pred)\n",
    "    weight = weight - (derivative * alpha)\n",
    "    \n",
    "    print(\"Fehler: \" + str(error) + \" Vorhersage: \" + str(pred))"
   ]
  },
  {
   "cell_type": "code",
   "execution_count": null,
   "id": "616ac8dd",
   "metadata": {},
   "outputs": [],
   "source": []
  }
 ],
 "metadata": {
  "kernelspec": {
   "display_name": "Python 3 (ipykernel)",
   "language": "python",
   "name": "python3"
  },
  "language_info": {
   "codemirror_mode": {
    "name": "ipython",
    "version": 3
   },
   "file_extension": ".py",
   "mimetype": "text/x-python",
   "name": "python",
   "nbconvert_exporter": "python",
   "pygments_lexer": "ipython3",
   "version": "3.9.7"
  }
 },
 "nbformat": 4,
 "nbformat_minor": 5
}
