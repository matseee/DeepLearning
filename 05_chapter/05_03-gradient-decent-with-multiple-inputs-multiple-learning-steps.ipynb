{
 "cells": [
  {
   "cell_type": "code",
   "execution_count": 6,
   "id": "df3f6df4",
   "metadata": {},
   "outputs": [
    {
     "name": "stdout",
     "output_type": "stream",
     "text": [
      "Index:1\n",
      "Weights:[0.1, 0.2, -0.1]\n",
      "Pred:0.8600000000000001\n",
      "Error:0.01959999999999997\n",
      "Delta:-0.1399999999999999\n",
      "Weight deltas:[-1.189999999999999, -0.09099999999999994, -0.16799999999999987]\n",
      "Updated weights:[0.1119, 0.20091, -0.09832]\n",
      "\n",
      "Index:2\n",
      "Weights:[0.1119, 0.20091, -0.09832]\n",
      "Pred:0.9637574999999999\n",
      "Error:0.0013135188062500048\n",
      "Delta:-0.036242500000000066\n",
      "Weight deltas:[-0.30806125000000056, -0.023557625000000044, -0.04349100000000008]\n",
      "Updated weights:[0.11498061250000001, 0.20114557625, -0.09788509000000001]\n",
      "\n",
      "Index:3\n",
      "Weights:[0.11498061250000001, 0.20114557625, -0.09788509000000001]\n",
      "Pred:0.9906177228125002\n",
      "Error:8.802712522307997e-05\n",
      "Delta:-0.009382277187499843\n",
      "Weight deltas:[-0.07974935609374867, -0.006098480171874899, -0.011258732624999811]\n",
      "Updated weights:[0.1157781060609375, 0.20120656105171877, -0.09777250267375001]\n",
      "\n"
     ]
    }
   ],
   "source": [
    "def w_sum(a,b):\n",
    "    assert(len(a) == len(b))\n",
    "    output = 0\n",
    "    \n",
    "    for i in range(len(a)):\n",
    "        output += (a[i] * b[i])\n",
    "        \n",
    "    return output\n",
    "\n",
    "def ele_mul(a, vec_b):\n",
    "    output = []\n",
    "    \n",
    "    for i in range(len(vec_b)):\n",
    "        output.append(a * vec_b[i])\n",
    "        \n",
    "    return output\n",
    "\n",
    "def neural_network(input, weights):\n",
    "    return w_sum(input, weights)\n",
    "\n",
    "toes = [8.5, 9.5, 9.9, 9.0]\n",
    "wlrec = [0.65, 0.8, 0.8, 0.9]\n",
    "nfans = [1.2, 1.3, 0.5, 1.0]\n",
    "results = [1, 1, 0, 1]\n",
    "\n",
    "weights = [0.1, 0.2, -0.1]\n",
    "alpha = 0.01\n",
    "\n",
    "input = [toes[0], wlrec[0], nfans[0]]\n",
    "result = results[0]\n",
    "\n",
    "for iter in range(3):\n",
    "    print(\"Index:\" + str(iter+1))\n",
    "    print(\"Weights:\" + str(weights))\n",
    "    \n",
    "    pred = neural_network(input, weights)\n",
    "    error = (pred - result) ** 2\n",
    "\n",
    "    delta = pred - result\n",
    "    weight_deltas = ele_mul(delta, input)\n",
    "\n",
    "    for i in range(len(weights)):\n",
    "        weights[i] -= alpha * weight_deltas[i]\n",
    "    \n",
    "    \n",
    "    print(\"Pred:\" + str(pred))\n",
    "    print(\"Error:\" + str(error))\n",
    "    print(\"Delta:\" + str(delta))\n",
    "    print(\"Weight deltas:\" + str(weight_deltas))\n",
    "    print(\"Updated weights:\" + str(weights) + \"\\n\")"
   ]
  },
  {
   "cell_type": "code",
   "execution_count": null,
   "id": "1fc373f0",
   "metadata": {},
   "outputs": [],
   "source": []
  }
 ],
 "metadata": {
  "kernelspec": {
   "display_name": "Python 3 (ipykernel)",
   "language": "python",
   "name": "python3"
  },
  "language_info": {
   "codemirror_mode": {
    "name": "ipython",
    "version": 3
   },
   "file_extension": ".py",
   "mimetype": "text/x-python",
   "name": "python",
   "nbconvert_exporter": "python",
   "pygments_lexer": "ipython3",
   "version": "3.9.7"
  }
 },
 "nbformat": 4,
 "nbformat_minor": 5
}
