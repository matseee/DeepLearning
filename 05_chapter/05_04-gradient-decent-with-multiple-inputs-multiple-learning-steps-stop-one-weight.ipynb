{
 "cells": [
  {
   "cell_type": "code",
   "execution_count": 1,
   "id": "7939a982",
   "metadata": {},
   "outputs": [
    {
     "name": "stdout",
     "output_type": "stream",
     "text": [
      "Index:1\n",
      "Weights:[0.1, 0.2, -0.1]\n",
      "Pred:0.8600000000000001\n",
      "Error:0.01959999999999997\n",
      "Delta:-0.1399999999999999\n",
      "Weight deltas:[0, -0.09099999999999994, -0.16799999999999987]\n",
      "Updated weights:[0.1, 0.2273, -0.04960000000000005]\n",
      "\n",
      "Index:2\n",
      "Weights:[0.1, 0.2273, -0.04960000000000005]\n",
      "Pred:0.9382250000000001\n",
      "Error:0.003816150624999989\n",
      "Delta:-0.06177499999999991\n",
      "Weight deltas:[0, -0.040153749999999946, -0.07412999999999989]\n",
      "Updated weights:[0.1, 0.239346125, -0.02736100000000008]\n",
      "\n",
      "Index:3\n",
      "Weights:[0.1, 0.239346125, -0.02736100000000008]\n",
      "Pred:0.97274178125\n",
      "Error:0.000743010489422852\n",
      "Delta:-0.027258218750000007\n",
      "Weight deltas:[0, -0.017717842187500006, -0.032709862500000006]\n",
      "Updated weights:[0.1, 0.24466147765625, -0.017548041250000077]\n",
      "\n"
     ]
    }
   ],
   "source": [
    "def w_sum(a,b):\n",
    "    assert(len(a) == len(b))\n",
    "    output = 0\n",
    "    \n",
    "    for i in range(len(a)):\n",
    "        output += (a[i] * b[i])\n",
    "        \n",
    "    return output\n",
    "\n",
    "def ele_mul(a, vec_b):\n",
    "    output = []\n",
    "    \n",
    "    for i in range(len(vec_b)):\n",
    "        output.append(a * vec_b[i])\n",
    "        \n",
    "    return output\n",
    "\n",
    "def neural_network(input, weights):\n",
    "    return w_sum(input, weights)\n",
    "\n",
    "toes = [8.5, 9.5, 9.9, 9.0]\n",
    "wlrec = [0.65, 0.8, 0.8, 0.9]\n",
    "nfans = [1.2, 1.3, 0.5, 1.0]\n",
    "results = [1, 1, 0, 1]\n",
    "\n",
    "weights = [0.1, 0.2, -0.1]\n",
    "alpha = 0.3\n",
    "\n",
    "input = [toes[0], wlrec[0], nfans[0]]\n",
    "result = results[0]\n",
    "\n",
    "for iter in range(3):\n",
    "    print(\"Index:\" + str(iter+1))\n",
    "    print(\"Weights:\" + str(weights))\n",
    "    \n",
    "    pred = neural_network(input, weights)\n",
    "    error = (pred - result) ** 2\n",
    "\n",
    "    delta = pred - result\n",
    "    weight_deltas = ele_mul(delta, input)\n",
    "    \n",
    "    weight_deltas[0] = 0\n",
    "\n",
    "    for i in range(len(weights)):\n",
    "        weights[i] -= alpha * weight_deltas[i]\n",
    "    \n",
    "    \n",
    "    print(\"Pred:\" + str(pred))\n",
    "    print(\"Error:\" + str(error))\n",
    "    print(\"Delta:\" + str(delta))\n",
    "    print(\"Weight deltas:\" + str(weight_deltas))\n",
    "    print(\"Updated weights:\" + str(weights) + \"\\n\")"
   ]
  },
  {
   "cell_type": "code",
   "execution_count": null,
   "id": "776f8b90",
   "metadata": {},
   "outputs": [],
   "source": []
  }
 ],
 "metadata": {
  "kernelspec": {
   "display_name": "Python 3 (ipykernel)",
   "language": "python",
   "name": "python3"
  },
  "language_info": {
   "codemirror_mode": {
    "name": "ipython",
    "version": 3
   },
   "file_extension": ".py",
   "mimetype": "text/x-python",
   "name": "python",
   "nbconvert_exporter": "python",
   "pygments_lexer": "ipython3",
   "version": "3.9.7"
  }
 },
 "nbformat": 4,
 "nbformat_minor": 5
}
