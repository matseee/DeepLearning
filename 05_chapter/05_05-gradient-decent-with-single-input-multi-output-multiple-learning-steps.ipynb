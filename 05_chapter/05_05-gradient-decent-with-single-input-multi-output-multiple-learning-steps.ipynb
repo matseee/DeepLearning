{
 "cells": [
  {
   "cell_type": "code",
   "execution_count": 4,
   "id": "3427d35c",
   "metadata": {},
   "outputs": [
    {
     "name": "stdout",
     "output_type": "stream",
     "text": [
      "Weights:[0.28049999999999997, 0.187, 0.8415]\n",
      "Weights deltas:[0.195, 0.13, 0.5850000000000001]\n"
     ]
    }
   ],
   "source": [
    "def ele_mul(a, vec_b):\n",
    "    output = []\n",
    "    for i in range(len(vec_b)):\n",
    "        output.append(a * vec_b[i])\n",
    "    return output\n",
    "\n",
    "def scalar_ele_mul(number, vector):\n",
    "    output = [0, 0, 0]\n",
    "    assert(len(output) == len(vector))\n",
    "    \n",
    "    for i in range(len(vector)):\n",
    "        output[i] = number * vector[i]\n",
    "    \n",
    "    return output\n",
    "\n",
    "def neural_network(input, weights):\n",
    "    return ele_mul(input, weights)\n",
    "\n",
    "weights = [0.3, 0.2, 0.9]\n",
    "\n",
    "wlrec = [0.65, 1.0, 1.0, 0.9]\n",
    "\n",
    "hurt = [0.1, 0.0, 0.0, 0.1]\n",
    "win = [1, 1, 0, 1]\n",
    "sad = [0.1, 0.0, 0.1, 0.2]\n",
    "\n",
    "input = wlrec[0]\n",
    "real_result = [hurt[0], win[0], sad[0]]\n",
    "\n",
    "error = [0, 0, 0]\n",
    "delta = [0, 0, 0]\n",
    "\n",
    "pred = neural_network(input, weights)\n",
    "\n",
    "for i in range(len(real_result)):\n",
    "    error[i] = (pred[i] - real_result[i]) ** 2\n",
    "    delta[i] = pred[i] - real_result[i]\n",
    "\n",
    "weight_deltas = scalar_ele_mul(input, weights)\n",
    "alpha = 0.1\n",
    "\n",
    "for i in range(len(weights)):\n",
    "    weights[i] -= (weight_deltas[i] * alpha)\n",
    "    \n",
    "print(\"Weights:\" + str(weights))\n",
    "print(\"Weights deltas:\" + str(weight_deltas))"
   ]
  },
  {
   "cell_type": "code",
   "execution_count": null,
   "id": "e41a1326",
   "metadata": {},
   "outputs": [],
   "source": []
  }
 ],
 "metadata": {
  "kernelspec": {
   "display_name": "Python 3 (ipykernel)",
   "language": "python",
   "name": "python3"
  },
  "language_info": {
   "codemirror_mode": {
    "name": "ipython",
    "version": 3
   },
   "file_extension": ".py",
   "mimetype": "text/x-python",
   "name": "python",
   "nbconvert_exporter": "python",
   "pygments_lexer": "ipython3",
   "version": "3.9.7"
  }
 },
 "nbformat": 4,
 "nbformat_minor": 5
}
