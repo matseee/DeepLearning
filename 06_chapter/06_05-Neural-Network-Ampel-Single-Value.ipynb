{
 "metadata": {
  "language_info": {
   "codemirror_mode": {
    "name": "ipython",
    "version": 3
   },
   "file_extension": ".py",
   "mimetype": "text/x-python",
   "name": "python",
   "nbconvert_exporter": "python",
   "pygments_lexer": "ipython3",
   "version": "3.8.5-final"
  },
  "orig_nbformat": 2,
  "kernelspec": {
   "name": "python3",
   "display_name": "Python 3 (ipykernel)"
  }
 },
 "nbformat": 4,
 "nbformat_minor": 2,
 "cells": [
  {
   "cell_type": "code",
   "execution_count": 1,
   "metadata": {},
   "outputs": [
    {
     "output_type": "stream",
     "name": "stdout",
     "text": [
      "Fehler: 0.03999999999999998 Vorhersage: -0.19999999999999996\nFehler: 0.025599999999999973 Vorhersage: -0.15999999999999992\nFehler: 0.01638399999999997 Vorhersage: -0.1279999999999999\nFehler: 0.010485759999999964 Vorhersage: -0.10239999999999982\nFehler: 0.006710886399999962 Vorhersage: -0.08191999999999977\nFehler: 0.004294967295999976 Vorhersage: -0.06553599999999982\nFehler: 0.002748779069439994 Vorhersage: -0.05242879999999994\nFehler: 0.0017592186044416036 Vorhersage: -0.04194304000000004\nFehler: 0.0011258999068426293 Vorhersage: -0.03355443200000008\nFehler: 0.0007205759403792803 Vorhersage: -0.02684354560000002\nFehler: 0.0004611686018427356 Vorhersage: -0.021474836479999926\nFehler: 0.0002951479051793508 Vorhersage: -0.01717986918399994\nFehler: 0.00018889465931478573 Vorhersage: -0.013743895347199997\nFehler: 0.00012089258196146188 Vorhersage: -0.010995116277759953\nFehler: 7.737125245533561e-05 Vorhersage: -0.008796093022207963\nFehler: 4.951760157141604e-05 Vorhersage: -0.007036874417766459\nFehler: 3.169126500570676e-05 Vorhersage: -0.0056294995342132115\nFehler: 2.028240960365233e-05 Vorhersage: -0.004503599627370569\nFehler: 1.298074214633813e-05 Vorhersage: -0.003602879701896544\nFehler: 8.307674973656916e-06 Vorhersage: -0.002882303761517324\n"
     ]
    }
   ],
   "source": [
    "import numpy as np\n",
    "\n",
    "weights = np.array([0.5, 0.48, -0.7])\n",
    "alpha = 0.1\n",
    "\n",
    "streetlights = np.array([\n",
    "    [1,0,1],\n",
    "    [0,1,1],\n",
    "    [0,0,1],\n",
    "    [1,1,1],\n",
    "    [0,1,1],\n",
    "    [1,0,1]\n",
    "])\n",
    "\n",
    "walk_vs_stop = np.array([0,1,0,1,1,0])\n",
    "\n",
    "input = streetlights[0]\n",
    "goal_prediction = walk_vs_stop[0]\n",
    "\n",
    "for iteration in range(20):\n",
    "    prediction = input.dot(weights)\n",
    "    error = (goal_prediction - prediction) ** 2\n",
    "    delta = prediction - goal_prediction\n",
    "    weights = weights - (alpha * (input * delta))\n",
    "\n",
    "    print(\"Fehler: \" + str(error) + \" Vorhersage: \" + str(prediction))"
   ]
  },
  {
   "cell_type": "code",
   "execution_count": null,
   "metadata": {},
   "outputs": [],
   "source": []
  }
 ]
}