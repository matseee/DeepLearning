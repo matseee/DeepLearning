{
 "metadata": {
  "language_info": {
   "codemirror_mode": {
    "name": "ipython",
    "version": 3
   },
   "file_extension": ".py",
   "mimetype": "text/x-python",
   "name": "python",
   "nbconvert_exporter": "python",
   "pygments_lexer": "ipython3",
   "version": "3.8.5-final"
  },
  "orig_nbformat": 2,
  "kernelspec": {
   "name": "python3",
   "display_name": "Python 3"
  }
 },
 "nbformat": 4,
 "nbformat_minor": 2,
 "cells": [
  {
   "cell_type": "code",
   "execution_count": 6,
   "metadata": {},
   "outputs": [
    {
     "output_type": "stream",
     "name": "stdout",
     "text": [
      "Error: 0.6342311598444467\nError: 0.35838407676317513\nError: 0.0830183113303298\nError: 0.006467054957103705\nError: 0.0003292669000750734\nError: 1.5055622665134859e-05\n"
     ]
    }
   ],
   "source": [
    "# import numpy and set random seed\n",
    "import numpy as np\n",
    "np.random.seed(1)\n",
    "\n",
    "# set relu functions\n",
    "def relu(x):\n",
    "    return (x > 0) * x\n",
    "\n",
    "def relu2Derivative(x):\n",
    "    return x > 0\n",
    "\n",
    "# input data\n",
    "streetlights = np.array([\n",
    "    [1, 0, 1],\n",
    "    [0, 1, 1],\n",
    "    [0, 0, 1],\n",
    "    [1, 1, 1]\n",
    "])\n",
    "\n",
    "# output data\n",
    "walk_or_stop = np.array([\n",
    "    [1, 1, 0, 0]\n",
    "]).T\n",
    "\n",
    "# set alpha and hidden layer node count\n",
    "alpha = 0.2\n",
    "hidden_layer_node_count = 4\n",
    "\n",
    "# prepare random weights for layer one and layer two\n",
    "weights_1 = 2 * np.random.random((3, hidden_layer_node_count)) - 1\n",
    "weights_2 = 2 * np.random.random((hidden_layer_node_count, 1)) - 1\n",
    "\n",
    "# training iteration => 60\n",
    "for iteration in range(60):\n",
    "    # set layer two error to 0\n",
    "    layer_2_error = 0\n",
    "\n",
    "    # iterate over input sets\n",
    "    for i in range(len(streetlights)):\n",
    "        # read in layer zero (input layer) values\n",
    "        layer_0 = streetlights[i:i+1]\n",
    "\n",
    "        # calculate layer one prediction\n",
    "        layer_1 = relu(np.dot(layer_0, weights_1))\n",
    "\n",
    "        # calculate layer two prediction\n",
    "        layer_2 = np.dot(layer_1, weights_2)\n",
    "\n",
    "        # calculate layer two error\n",
    "        layer_2_error += np.sum((layer_2 - walk_or_stop[i:i+1]) ** 2)\n",
    "\n",
    "        # calculate layer two delta\n",
    "        layer_2_delta = layer_2 - walk_or_stop[i:i+1]\n",
    "\n",
    "        # calculate layer one delta\n",
    "        layer_1_delta = layer_2_delta.dot(weights_2.T) * relu2Derivative(layer_1)\n",
    "\n",
    "        # change weights\n",
    "        weights_1 -= alpha * layer_0.T.dot(layer_1_delta)\n",
    "        weights_2 -= alpha * layer_1.T.dot(layer_2_delta)\n",
    "\n",
    "    if iteration % 10 == 9:\n",
    "        print(\"Error: \" + str(layer_2_error))"
   ]
  },
  {
   "cell_type": "code",
   "execution_count": null,
   "metadata": {},
   "outputs": [],
   "source": []
  }
 ]
}