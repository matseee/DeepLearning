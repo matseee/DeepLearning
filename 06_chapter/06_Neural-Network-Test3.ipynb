{
 "metadata": {
  "language_info": {
   "codemirror_mode": {
    "name": "ipython",
    "version": 3
   },
   "file_extension": ".py",
   "mimetype": "text/x-python",
   "name": "python",
   "nbconvert_exporter": "python",
   "pygments_lexer": "ipython3",
   "version": "3.8.5-final"
  },
  "orig_nbformat": 2,
  "kernelspec": {
   "name": "python3",
   "display_name": "Python 3"
  }
 },
 "nbformat": 4,
 "nbformat_minor": 2,
 "cells": [
  {
   "cell_type": "code",
   "execution_count": 2,
   "metadata": {},
   "outputs": [
    {
     "output_type": "stream",
     "name": "stdout",
     "text": [
      "0.6342311598444467\n0.35838407676317513\n0.0830183113303298\n0.006467054957103705\n0.0003292669000750734\n1.5055622665134859e-05\n"
     ]
    }
   ],
   "source": [
    "'''\n",
    "Supervised Neural network that learns an ampel system with three lights.\n",
    "It learns when you are allowed to go through the inputs and its corresponding output.\n",
    "\n",
    "The network contains of three layers (input[0], hidden[1], output[2]).\n",
    "'''\n",
    "# import numpy and set random seed\n",
    "import numpy as np\n",
    "np.random.seed(1)\n",
    "\n",
    "# set relu functions, to stop a weight change for an unrelevant hidden weight\n",
    "def relu(x):\n",
    "    return (x > 0) * x\n",
    "\n",
    "def relu2Derivative(x):\n",
    "    return x > 0\n",
    "\n",
    "# input data\n",
    "streetlights = np.array([\n",
    "    [1, 0, 1],\n",
    "    [0, 1, 1],\n",
    "    [0, 0, 1],\n",
    "    [1, 1, 1]\n",
    "])\n",
    "\n",
    "# output data\n",
    "walkOrStop = np.array([\n",
    "    [1, 1, 0, 0]\n",
    "]).T\n",
    "\n",
    "# set neural network control attributes\n",
    "hiddenLayerNodeCount = 4\n",
    "alpha = 0.2\n",
    "\n",
    "# initiate random weights\n",
    "weights1 = 2 * np.random.random((3, hiddenLayerNodeCount)) - 1 # 3x4 matrix for layer0[1-3] -> layer1[1-4]\n",
    "weights2 = 2 * np.random.random((hiddenLayerNodeCount, 1)) - 1 # 4x1 matrix (vector) for layer1[1-4] -> layer2[1]\n",
    "\n",
    "# do 60 training iterations\n",
    "for iter in range(60):\n",
    "\n",
    "    # set layer2 error to zero\n",
    "    errorLayer2 = 0\n",
    "\n",
    "    # iterate over every input combination\n",
    "    for i in range(len(streetlights)):\n",
    "\n",
    "        # set light combination-data to layer0\n",
    "        layer0 = streetlights[i:i+1]\n",
    "\n",
    "        # calculate layer 1, only if its positive\n",
    "        layer1 = relu(np.dot(layer0, weights1))\n",
    "\n",
    "        # calculate layer 2 (prediction of input data)\n",
    "        layer2 = np.dot(layer1, weights2)\n",
    "\n",
    "        # sum error of layer 2 ( (result - prediction)^2 [squared to get only positive values])\n",
    "        errorLayer2 += np.sum((walkOrStop[i:i+1] - layer2) ** 2)\n",
    "\n",
    "        # calculate delta of layer2\n",
    "        delta2 = layer2 - walkOrStop[i:i+1]\n",
    "\n",
    "        # calculate delta of layer1\n",
    "        delta1 = delta2.dot(weights2.T) * relu2Derivative(layer1)\n",
    "\n",
    "        # change weights2\n",
    "        weights2 -= alpha * layer1.T.dot(delta2)\n",
    "        \n",
    "        # change weights1\n",
    "        weights1 -= alpha * layer0.T.dot(delta1)\n",
    "    \n",
    "    # print every 10th training the error of layer2\n",
    "    if iter % 10 == 9:\n",
    "        print(str(errorLayer2))"
   ]
  },
  {
   "cell_type": "code",
   "execution_count": null,
   "metadata": {},
   "outputs": [],
   "source": []
  }
 ]
}