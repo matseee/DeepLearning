{
 "metadata": {
  "language_info": {
   "codemirror_mode": {
    "name": "ipython",
    "version": 3
   },
   "file_extension": ".py",
   "mimetype": "text/x-python",
   "name": "python",
   "nbconvert_exporter": "python",
   "pygments_lexer": "ipython3",
   "version": "3.8.5-final"
  },
  "orig_nbformat": 2,
  "kernelspec": {
   "name": "python3",
   "display_name": "Python 3"
  }
 },
 "nbformat": 4,
 "nbformat_minor": 2,
 "cells": [
  {
   "cell_type": "code",
   "execution_count": 5,
   "metadata": {},
   "outputs": [
    {
     "output_type": "error",
     "ename": "ValueError",
     "evalue": "non-broadcastable output operand with shape (4,1) doesn't match the broadcast shape (4,4)",
     "traceback": [
      "\u001b[0;31m---------------------------------------------------------------------------\u001b[0m",
      "\u001b[0;31mValueError\u001b[0m                                Traceback (most recent call last)",
      "\u001b[0;32m<ipython-input-5-8ff69d426f6f>\u001b[0m in \u001b[0;36m<module>\u001b[0;34m\u001b[0m\n\u001b[1;32m     65\u001b[0m \u001b[0;34m\u001b[0m\u001b[0m\n\u001b[1;32m     66\u001b[0m         \u001b[0;31m# change weights2\u001b[0m\u001b[0;34m\u001b[0m\u001b[0;34m\u001b[0m\u001b[0;34m\u001b[0m\u001b[0m\n\u001b[0;32m---> 67\u001b[0;31m         \u001b[0mweights2\u001b[0m \u001b[0;34m-=\u001b[0m \u001b[0malpha\u001b[0m \u001b[0;34m*\u001b[0m \u001b[0mdelta2\u001b[0m\u001b[0;34m.\u001b[0m\u001b[0mT\u001b[0m\u001b[0;34m.\u001b[0m\u001b[0mdot\u001b[0m\u001b[0;34m(\u001b[0m\u001b[0mlayer1\u001b[0m\u001b[0;34m)\u001b[0m\u001b[0;34m\u001b[0m\u001b[0;34m\u001b[0m\u001b[0m\n\u001b[0m\u001b[1;32m     68\u001b[0m \u001b[0;34m\u001b[0m\u001b[0m\n\u001b[1;32m     69\u001b[0m         \u001b[0;31m# change weights1\u001b[0m\u001b[0;34m\u001b[0m\u001b[0;34m\u001b[0m\u001b[0;34m\u001b[0m\u001b[0m\n",
      "\u001b[0;31mValueError\u001b[0m: non-broadcastable output operand with shape (4,1) doesn't match the broadcast shape (4,4)"
     ]
    }
   ],
   "source": [
    "'''\n",
    "Supervised Neural network that learns an ampel system with three lights.\n",
    "It learns when you are allowed to go through the inputs and its corresponding output.\n",
    "\n",
    "The network contains of three layers (input[0], hidden[1], output[2]).\n",
    "'''\n",
    "# import numpy and set random seed\n",
    "import numpy as np\n",
    "np.random.seed(1)\n",
    "\n",
    "# set relu functions, to stop a weight change for an unrelevant hidden weight\n",
    "def relu(x):\n",
    "    return (x > 0) * x\n",
    "\n",
    "def relu2Derivative(x):\n",
    "    return x > 0\n",
    "\n",
    "# input data\n",
    "streetlights = np.array([\n",
    "    [1, 0, 1],\n",
    "    [0, 1, 1],\n",
    "    [0, 0, 1],\n",
    "    [1, 1, 1]\n",
    "])\n",
    "\n",
    "# output data\n",
    "walkOrStop = np.array([\n",
    "    [1, 1, 0, 0]\n",
    "]).T\n",
    "\n",
    "# set neural network control attributes\n",
    "hiddenLayerNodeCount = 4\n",
    "alpha = 0.2\n",
    "\n",
    "# initiate random weights\n",
    "weights1 = 2 * np.random.random((3, hiddenLayerNodeCount)) - 1 # 3x4 matrix for layer0[1-3] -> layer1[1-4]\n",
    "weights2 = 2 * np.random.random((hiddenLayerNodeCount, 1)) - 1 # 4x1 matrix (vector) for layer1[1-4] -> layer2[1]\n",
    "\n",
    "# do 60 training iterations\n",
    "for iter in range(60):\n",
    "\n",
    "    # set layer2 error to zero\n",
    "    errorLayer2 = 0\n",
    "\n",
    "    # iterate over every input combination\n",
    "    for i in range(len(streetlights)):\n",
    "\n",
    "        # set light combination-data to layer0\n",
    "        layer0 = streetlights[i:i+1]\n",
    "\n",
    "        # calculate layer 1, only if its positive\n",
    "        layer1 = relu(np.dot(layer0, weights1))\n",
    "\n",
    "        # calculate layer 2 (prediction of input data)\n",
    "        layer2 = np.dot(layer1, weights2)\n",
    "\n",
    "        # sum error of layer 2 ( (result - prediction)^2 [squared to get only positive values])\n",
    "        errorLayer2 += np.sum((walkOrStop[i:i+1] - layer2) ** 2)\n",
    "\n",
    "        # calculate delta of layer2\n",
    "        delta2 = layer2 - walkOrStop[i:i+1]\n",
    "\n",
    "        # calculate delta of layer1\n",
    "        delta1 = delta2.dot(weights2.T) * relu2Derivative(layer1)\n",
    "\n",
    "        # change weights2\n",
    "        weights2 -= alpha * layer1.T.dot(delta2)\n",
    "        \n",
    "        # change weights1\n",
    "        weights1 -= alpha * layer0.T.dot(delta1)\n",
    "    \n",
    "    # print every 10th training the error of layer2\n",
    "    if iter % 10 == 9:\n",
    "        print(str(errorLayer2))"
   ]
  },
  {
   "cell_type": "code",
   "execution_count": null,
   "metadata": {},
   "outputs": [],
   "source": []
  }
 ]
}