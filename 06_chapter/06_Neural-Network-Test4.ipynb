{
 "metadata": {
  "language_info": {
   "codemirror_mode": {
    "name": "ipython",
    "version": 3
   },
   "file_extension": ".py",
   "mimetype": "text/x-python",
   "name": "python",
   "nbconvert_exporter": "python",
   "pygments_lexer": "ipython3",
   "version": "3.8.5-final"
  },
  "orig_nbformat": 2,
  "kernelspec": {
   "name": "python3",
   "display_name": "Python 3"
  }
 },
 "nbformat": 4,
 "nbformat_minor": 2,
 "cells": [
  {
   "source": [
    "import numpy as np\n",
    "np.random.seed(1)\n",
    "\n",
    "def relu(x):\n",
    "    return (x > 0) * x\n",
    "\n",
    "def relu2Derivative(x):\n",
    "    return x > 0\n",
    "\n",
    "streetlights = np.array([\n",
    "    [1, 0, 1],\n",
    "    [0, 1, 1],\n",
    "    [0, 0, 1],\n",
    "    [1, 1, 1]\n",
    "])\n",
    "\n",
    "walkOrStop = np.array([\n",
    "    [1, 1, 0, 0]\n",
    "]).T\n",
    "\n",
    "alpha = 0.2\n",
    "hiddenLayerNodeCount = 4\n",
    "\n",
    "wei1 = 2 * np.random.random((3, hiddenLayerNodeCount)) - 1\n",
    "wei2 = 2 * np.random.random((hiddenLayerNodeCount, 1)) - 1\n",
    "\n",
    "for iter in range(60):\n",
    "    errLay2 = 0\n",
    "    for i in range(len(streetlights)):\n",
    "        lay0 = streetlights[i:i+1]\n",
    "        lay1 = relu(np.dot(lay0, wei1))\n",
    "        lay2 = np.dot(lay1, wei2)\n",
    "\n",
    "        errLay2 += np.sum((walkOrStop[i:i+1] - lay2) ** 2)\n",
    "\n",
    "        del2 = lay2 - walkOrStop[i:i+1]\n",
    "        del1 = del2.dot(wei2.T) * relu2Derivative(lay1)\n",
    "\n",
    "        wei2 -= alpha * lay1.T.dot(del2)\n",
    "        wei1 -= alpha * lay0.T.dot(del1)\n",
    "\n",
    "    if iter % 10 == 9:\n",
    "        print(str(errLay2))"
   ],
   "cell_type": "code",
   "metadata": {},
   "execution_count": 2,
   "outputs": [
    {
     "output_type": "stream",
     "name": "stdout",
     "text": [
      "0.6342311598444467\n0.35838407676317513\n0.0830183113303298\n0.006467054957103705\n0.0003292669000750734\n1.5055622665134859e-05\n"
     ]
    }
   ]
  },
  {
   "cell_type": "code",
   "execution_count": null,
   "metadata": {},
   "outputs": [],
   "source": []
  }
 ]
}