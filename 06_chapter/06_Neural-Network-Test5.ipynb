{
 "cells": [
  {
   "cell_type": "code",
   "execution_count": 2,
   "source": [
    "import numpy as np\n",
    "np.random.seed(1)\n",
    "\n",
    "\n",
    "def relu(x):\n",
    "    return (x > 0) * x\n",
    "\n",
    "\n",
    "def relu2Derivative(x):\n",
    "    return x > 0\n",
    "\n",
    "\n",
    "streetlights = np.array([\n",
    "    [1, 0, 1],\n",
    "    [0, 1, 1],\n",
    "    [0, 0, 1],\n",
    "    [1, 1, 1]\n",
    "])\n",
    "\n",
    "walkOrStop = np.array([\n",
    "    [1, 1, 0, 0]\n",
    "]).T\n",
    "\n",
    "alpha = 0.2\n",
    "hiddenLayerCount = 4\n",
    "\n",
    "wei1 = 2 * np.random.random((3, hiddenLayerCount)) - 1\n",
    "wei2 = 2 * np.random.random((hiddenLayerCount, 1)) - 1\n",
    "\n",
    "for iter in range(60):\n",
    "    errorLay2 = 0\n",
    "    for i in range(len(streetlights)):\n",
    "        lay0 = streetlights[i:i+1]\n",
    "        lay1 = relu(np.dot(lay0, wei1))\n",
    "        lay2 = np.dot(lay1, wei2)\n",
    "\n",
    "        errorLay2 += np.sum((lay2 - walkOrStop[i:i+1]) ** 2)\n",
    "\n",
    "        del2 = lay2 - walkOrStop[i:i+1]\n",
    "        del1 = del2.dot(wei2.T) * relu2Derivative(lay1)\n",
    "\n",
    "        wei2 -= alpha * lay1.T.dot(del2)\n",
    "        wei1 -= alpha * lay0.T.dot(del1)\n",
    "    if iter % 10 == 9:\n",
    "        print(str(errorLay2))"
   ],
   "outputs": [
    {
     "output_type": "stream",
     "name": "stdout",
     "text": [
      "0.6342311598444467\n",
      "0.35838407676317513\n",
      "0.0830183113303298\n",
      "0.006467054957103705\n",
      "0.0003292669000750734\n",
      "1.5055622665134859e-05\n"
     ]
    }
   ],
   "metadata": {}
  }
 ],
 "metadata": {
  "orig_nbformat": 4,
  "language_info": {
   "name": "python",
   "version": "3.9.7",
   "mimetype": "text/x-python",
   "codemirror_mode": {
    "name": "ipython",
    "version": 3
   },
   "pygments_lexer": "ipython3",
   "nbconvert_exporter": "python",
   "file_extension": ".py"
  },
  "kernelspec": {
   "name": "python3",
   "display_name": "Python 3.9.7 64-bit"
  },
  "interpreter": {
   "hash": "e7370f93d1d0cde622a1f8e1c04877d8463912d04d973331ad4851f04de6915a"
  }
 },
 "nbformat": 4,
 "nbformat_minor": 2
}